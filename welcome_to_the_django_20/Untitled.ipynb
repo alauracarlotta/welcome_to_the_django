{
 "cells": [
  {
   "cell_type": "code",
   "execution_count": 25,
   "id": "4e68ff15-b37a-491c-8661-328182b17c59",
   "metadata": {},
   "outputs": [
    {
     "data": {
      "text/plain": [
       "'erq'"
      ]
     },
     "execution_count": 25,
     "metadata": {},
     "output_type": "execute_result"
    },
    {
     "name": "stdout",
     "output_type": "stream",
     "text": [
      "\u001b[0;31mDocstring:\u001b[0m\n",
      "S.indices(len) -> (start, stop, stride)\n",
      "\n",
      "Assuming a sequence of length len, calculate the start and stop\n",
      "indices, and the stride length of the extended slice described by\n",
      "S. Out of bounds indices are clipped in a manner consistent with the\n",
      "handling of normal slices.\n",
      "\u001b[0;31mType:\u001b[0m      builtin_function_or_method"
     ]
    }
   ],
   "source": [
    "nome = 'Henrique'\n",
    "len(nome)\n",
    "\n",
    "nome[2]\n",
    "\n",
    "nome[1]\n",
    "\n",
    "# nome[7]\n",
    "\n",
    "nome[len(nome) - 1]\n",
    "\n",
    "nome[-1]\n",
    "\n",
    "nome[1:-1]\n",
    "\n",
    "nome[1:]\n",
    "\n",
    "nome[:2]\n",
    "\n",
    "nome[::2]\n",
    "\n",
    "len\n",
    "\n",
    "pi = 3.14\n",
    "# pi.__len__()\n",
    "# len(pi)\n",
    "\n",
    "nome.__getitem__(0)\n",
    "\n",
    "index = slice(1, -1, 2)\n",
    "type(index)\n",
    "\n",
    "nome[index]\n",
    "\n",
    "# index.indices?\n",
    "\n",
    "index.indices(len(nome))\n",
    "\n",
    "nome.__getitem__(slice(1, -1, 2))\n"
   ]
  }
 ],
 "metadata": {
  "kernelspec": {
   "display_name": "Python 3 (ipykernel)",
   "language": "python",
   "name": "python3"
  },
  "language_info": {
   "codemirror_mode": {
    "name": "ipython",
    "version": 3
   },
   "file_extension": ".py",
   "mimetype": "text/x-python",
   "name": "python",
   "nbconvert_exporter": "python",
   "pygments_lexer": "ipython3",
   "version": "3.12.3"
  }
 },
 "nbformat": 4,
 "nbformat_minor": 5
}
