{
 "cells": [
  {
   "cell_type": "code",
   "execution_count": null,
   "id": "67aa7c1e-3ef0-4ace-9cf8-0645817406a0",
   "metadata": {},
   "outputs": [],
   "source": []
  }
 ],
 "metadata": {
  "kernelspec": {
   "display_name": "",
   "name": ""
  },
  "language_info": {
   "name": ""
  }
 },
 "nbformat": 4,
 "nbformat_minor": 5
}
