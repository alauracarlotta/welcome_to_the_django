{
 "cells": [
  {
   "cell_type": "code",
   "execution_count": 4,
   "id": "47c2b130-25c6-4c3a-a35b-917d39a34fdf",
   "metadata": {},
   "outputs": [],
   "source": [
    "nome = 'Laura'"
   ]
  },
  {
   "cell_type": "code",
   "execution_count": 5,
   "id": "51f0c5de-c8cf-44b4-9ad3-99c2f9bbf2ff",
   "metadata": {},
   "outputs": [
    {
     "name": "stdout",
     "output_type": "stream",
     "text": [
      "Laura\n"
     ]
    }
   ],
   "source": [
    "nome."
   ]
  }
 ],
 "metadata": {
  "kernelspec": {
   "display_name": "Python 3 (ipykernel)",
   "language": "python",
   "name": "python3"
  },
  "language_info": {
   "codemirror_mode": {
    "name": "ipython",
    "version": 3
   },
   "file_extension": ".py",
   "mimetype": "text/x-python",
   "name": "python",
   "nbconvert_exporter": "python",
   "pygments_lexer": "ipython3",
   "version": "3.12.3"
  }
 },
 "nbformat": 4,
 "nbformat_minor": 5
}
